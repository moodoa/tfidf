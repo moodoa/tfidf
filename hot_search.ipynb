{
 "cells": [
  {
   "cell_type": "code",
   "execution_count": 79,
   "metadata": {},
   "outputs": [],
   "source": [
    "import requests\n",
    "from bs4 import BeautifulSoup\n",
    "from selenium import webdriver"
   ]
  },
  {
   "cell_type": "code",
   "execution_count": 42,
   "metadata": {},
   "outputs": [],
   "source": [
    "driver = webdriver.Chrome()\n",
    "\n",
    "driver.get('https://trends.google.com.tw/trends/trendingsearches/daily?geo=TW')\n",
    "\n",
    "\n",
    "htmltext = driver.page_source\n",
    "driver.close()\n",
    "\n",
    "soup = BeautifulSoup(htmltext,'html.parser')\n",
    "\n"
   ]
  },
  {
   "cell_type": "code",
   "execution_count": 61,
   "metadata": {},
   "outputs": [],
   "source": [
    "webtxt = str((soup.find_all(name='span',attrs={'ng-repeat':'titlePart in titleArray'})))"
   ]
  },
  {
   "cell_type": "code",
   "execution_count": 76,
   "metadata": {},
   "outputs": [],
   "source": [
    "hot_search = []\n",
    "for i in range(1,len(webtxt.split('titlePart.text]\">'))):\n",
    "    word = (webtxt.split('titlePart.text]\">')[i].split('\\n')[1].strip())\n",
    "    while ' ' in word:\n",
    "        word = word.replace(' ','')\n",
    "    hot_search.append(word)"
   ]
  },
  {
   "cell_type": "code",
   "execution_count": 80,
   "metadata": {},
   "outputs": [
    {
     "data": {
      "text/plain": [
       "['曹格',\n",
       " '賴品妤',\n",
       " '越南',\n",
       " '拜天公',\n",
       " '玩命關頭9',\n",
       " '竹中知華',\n",
       " '武漢肺炎症狀',\n",
       " '屈臣氏口罩',\n",
       " '雙黃連口服液',\n",
       " '梨泰院Class',\n",
       " '澤尻英龍華',\n",
       " '地震',\n",
       " '芮德',\n",
       " '賈靜雯',\n",
       " '湖人',\n",
       " '湖人對拓荒者',\n",
       " '分離病毒',\n",
       " '廣東',\n",
       " '周揚青',\n",
       " '宋中積',\n",
       " '尹啟銘']"
      ]
     },
     "execution_count": 80,
     "metadata": {},
     "output_type": "execute_result"
    }
   ],
   "source": [
    "hot_search"
   ]
  },
  {
   "cell_type": "code",
   "execution_count": 83,
   "metadata": {},
   "outputs": [],
   "source": [
    "for i in range(1):\n",
    "    with open ('final.txt','a',encoding='utf-8') as file:\n",
    "        file.write('\\n')\n",
    "        for w in hot_search:\n",
    "            if w == hot_search[-1]:\n",
    "                file.write(w)\n",
    "            else:\n",
    "                file.write(w+'\\n')\n",
    "    "
   ]
  },
  {
   "cell_type": "code",
   "execution_count": 84,
   "metadata": {},
   "outputs": [],
   "source": [
    "for i in range(5):\n",
    "    with open ('topic.txt','a',encoding='utf-8') as file:\n",
    "        file.write('\\n')\n",
    "        for w in hot_search:\n",
    "            if w == hot_search[-1]:\n",
    "                file.write(w)\n",
    "            else:\n",
    "                file.write(w+'\\n')\n",
    "    "
   ]
  },
  {
   "cell_type": "code",
   "execution_count": null,
   "metadata": {},
   "outputs": [],
   "source": []
  }
 ],
 "metadata": {
  "kernelspec": {
   "display_name": "Python 3",
   "language": "python",
   "name": "python3"
  },
  "language_info": {
   "codemirror_mode": {
    "name": "ipython",
    "version": 3
   },
   "file_extension": ".py",
   "mimetype": "text/x-python",
   "name": "python",
   "nbconvert_exporter": "python",
   "pygments_lexer": "ipython3",
   "version": "3.7.4"
  }
 },
 "nbformat": 4,
 "nbformat_minor": 2
}
