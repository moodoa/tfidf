{
 "cells": [
  {
   "cell_type": "code",
   "execution_count": 1,
   "metadata": {},
   "outputs": [],
   "source": [
    "import jieba"
   ]
  },
  {
   "cell_type": "code",
   "execution_count": 2,
   "metadata": {},
   "outputs": [],
   "source": [
    "jieba.case_sensitive = True"
   ]
  },
  {
   "cell_type": "code",
   "execution_count": 13,
   "metadata": {},
   "outputs": [],
   "source": [
    "sentence = '''我覺得我必須更正標題強調是女裝 怎麼一堆人跑來問男裝啦太好笑了😂男裝要爬文啦人家是女森內😅\n",
    "另外我強調的是不太逛都用淘寶圖的店家 沒有保證一定是韓貨哦😃\n",
    "然後單純是因為覺得這些店家真的感覺會很多人喜歡所以放上來分享 沒有特別意思哦～\n",
    "————\n",
    "正文♡\n",
    "小女子我呢 是個蝦皮重度使用者✋有事沒事打開一逛就是一兩小時 而且逛的還絕對不能是那種淘寶店家😆（例如說放那種圖一搜可以跑出幾百個一模一樣圖的店家\n",
    "所以我呢 整理出了一些平常我愛逛的蝦皮網拍 主要是以韓系的為主（但不一定是正韓哦～\n",
    "然後這些全部都是我超推的那種！！重點是都很平價啊啊😍'''"
   ]
  },
  {
   "cell_type": "code",
   "execution_count": 15,
   "metadata": {},
   "outputs": [],
   "source": [
    "word_list = jieba.lcut(sentence)"
   ]
  },
  {
   "cell_type": "code",
   "execution_count": 16,
   "metadata": {},
   "outputs": [
    {
     "data": {
      "text/plain": [
       "['我',\n",
       " '覺得',\n",
       " '我',\n",
       " '必須',\n",
       " '更正',\n",
       " '標題',\n",
       " '強調',\n",
       " '是',\n",
       " '女裝',\n",
       " ' ',\n",
       " '怎麼',\n",
       " '一',\n",
       " '堆',\n",
       " '人',\n",
       " '跑來',\n",
       " '問',\n",
       " '男裝',\n",
       " '啦',\n",
       " '太',\n",
       " '好笑',\n",
       " '了',\n",
       " '😂',\n",
       " '男裝',\n",
       " '要',\n",
       " '爬文',\n",
       " '啦',\n",
       " '人家',\n",
       " '是',\n",
       " '女森',\n",
       " '內',\n",
       " '😅',\n",
       " '\\n',\n",
       " '另外',\n",
       " '我',\n",
       " '強調',\n",
       " '的',\n",
       " '是',\n",
       " '不',\n",
       " '太',\n",
       " '逛',\n",
       " '都',\n",
       " '用',\n",
       " '淘寶',\n",
       " '圖',\n",
       " '的',\n",
       " '店家',\n",
       " ' ',\n",
       " '沒有',\n",
       " '保證',\n",
       " '一定',\n",
       " '是',\n",
       " '韓貨',\n",
       " '哦',\n",
       " '😃',\n",
       " '\\n',\n",
       " '然後',\n",
       " '單純',\n",
       " '是',\n",
       " '因為',\n",
       " '覺得',\n",
       " '這',\n",
       " '些',\n",
       " '店家',\n",
       " '真的',\n",
       " '感覺',\n",
       " '會',\n",
       " '很多',\n",
       " '人',\n",
       " '喜歡',\n",
       " '所以',\n",
       " '放上',\n",
       " '來',\n",
       " '分享',\n",
       " ' ',\n",
       " '沒有',\n",
       " '特別',\n",
       " '意思',\n",
       " '哦',\n",
       " '～',\n",
       " '\\n',\n",
       " '—',\n",
       " '—',\n",
       " '—',\n",
       " '—',\n",
       " '\\n',\n",
       " '正文',\n",
       " '♡',\n",
       " '\\n',\n",
       " '小',\n",
       " '女子',\n",
       " '我',\n",
       " '呢',\n",
       " ' ',\n",
       " '是',\n",
       " '個',\n",
       " '蝦皮',\n",
       " '重度',\n",
       " '使用',\n",
       " '者',\n",
       " '✋',\n",
       " '有事',\n",
       " '沒事',\n",
       " '打開',\n",
       " '一',\n",
       " '逛',\n",
       " '就是',\n",
       " '一',\n",
       " '兩',\n",
       " '小時',\n",
       " ' ',\n",
       " '而且',\n",
       " '逛',\n",
       " '的',\n",
       " '還',\n",
       " '絕對',\n",
       " '不能',\n",
       " '是',\n",
       " '那',\n",
       " '種',\n",
       " '淘寶',\n",
       " '店家',\n",
       " '😆',\n",
       " '（',\n",
       " '例如',\n",
       " '說',\n",
       " '放',\n",
       " '那',\n",
       " '種',\n",
       " '圖一',\n",
       " '搜',\n",
       " '可以',\n",
       " '跑出',\n",
       " '幾百',\n",
       " '個',\n",
       " '一模一樣',\n",
       " '圖',\n",
       " '的',\n",
       " '店家',\n",
       " '\\n',\n",
       " '所以',\n",
       " '我',\n",
       " '呢',\n",
       " ' ',\n",
       " '整理出',\n",
       " '了',\n",
       " '一',\n",
       " '些',\n",
       " '平常',\n",
       " '我',\n",
       " '愛',\n",
       " '逛',\n",
       " '的',\n",
       " '蝦皮',\n",
       " '網拍',\n",
       " ' ',\n",
       " '主要',\n",
       " '是',\n",
       " '以',\n",
       " '韓系',\n",
       " '的',\n",
       " '為主',\n",
       " '（',\n",
       " '但',\n",
       " '不一定',\n",
       " '是',\n",
       " '正韓',\n",
       " '哦',\n",
       " '～',\n",
       " '\\n',\n",
       " '然後',\n",
       " '這',\n",
       " '些',\n",
       " '全部',\n",
       " '都',\n",
       " '是',\n",
       " '我',\n",
       " '超',\n",
       " '推',\n",
       " '的',\n",
       " '那',\n",
       " '種',\n",
       " '！',\n",
       " '！',\n",
       " '重點',\n",
       " '是',\n",
       " '都',\n",
       " '很',\n",
       " '平價',\n",
       " '啊啊',\n",
       " '😍']"
      ]
     },
     "execution_count": 16,
     "metadata": {},
     "output_type": "execute_result"
    }
   ],
   "source": [
    "word_list"
   ]
  },
  {
   "cell_type": "code",
   "execution_count": 3,
   "metadata": {},
   "outputs": [],
   "source": [
    "import jieba.analyse"
   ]
  },
  {
   "cell_type": "code",
   "execution_count": 17,
   "metadata": {},
   "outputs": [
    {
     "data": {
      "text/plain": [
       "[('店家', 0.5209728526989189),\n",
       " ('覺得', 0.3231018244027027),\n",
       " ('強調', 0.3231018244027027),\n",
       " ('男裝', 0.3231018244027027),\n",
       " ('淘寶', 0.3231018244027027)]"
      ]
     },
     "execution_count": 17,
     "metadata": {},
     "output_type": "execute_result"
    }
   ],
   "source": [
    "jieba.analyse.extract_tags(sentence, topK=5, withWeight=True, allowPOS=())"
   ]
  },
  {
   "cell_type": "code",
   "execution_count": null,
   "metadata": {},
   "outputs": [],
   "source": []
  },
  {
   "cell_type": "code",
   "execution_count": 18,
   "metadata": {},
   "outputs": [
    {
     "data": {
      "text/plain": [
       "[('店家', 0.5209728526989189),\n",
       " ('覺得', 0.3231018244027027),\n",
       " ('強調', 0.3231018244027027),\n",
       " ('男裝', 0.3231018244027027),\n",
       " ('淘寶', 0.3231018244027027)]"
      ]
     },
     "execution_count": 18,
     "metadata": {},
     "output_type": "execute_result"
    }
   ],
   "source": []
  },
  {
   "cell_type": "code",
   "execution_count": null,
   "metadata": {},
   "outputs": [],
   "source": []
  }
 ],
 "metadata": {
  "kernelspec": {
   "display_name": "Python 3",
   "language": "python",
   "name": "python3"
  },
  "language_info": {
   "codemirror_mode": {
    "name": "ipython",
    "version": 3
   },
   "file_extension": ".py",
   "mimetype": "text/x-python",
   "name": "python",
   "nbconvert_exporter": "python",
   "pygments_lexer": "ipython3",
   "version": "3.7.3"
  }
 },
 "nbformat": 4,
 "nbformat_minor": 2
}
